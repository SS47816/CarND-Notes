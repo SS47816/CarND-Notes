{
 "cells": [
  {
   "cell_type": "markdown",
   "metadata": {},
   "source": [
    "# Introduction to Functional Safety\n"
   ]
  },
  {
   "cell_type": "markdown",
   "metadata": {},
   "source": [
    "## 1. Introduction\n",
    "\n",
    "**Note that functional safety and ISO 26262 do not consider all risk in E/E systems. They only consider reducing risk as a result of malfunctioning behavior of E/E systems.**\n",
    "\n",
    "### Functional Safety Standards\n",
    "Functional safety grew out of the increasing use of E/E (Electronic and Electrical) systems for control systems. Currently, functional safety is used across many industries including avionics, automotive, railroad and the medical device industries.\n",
    "\n",
    "The most generic standard is [IEC 61508](http://www.iec.ch/functionalsafety/), which originated from industrial markets. It currently exists as a standard in the IEC/ISO basic safety publication, which covers \"general functional safety,\" for a number of industries. ISO 26262 specifically applies to automotive passenger vehicle electrical and electronic systems. The [ISO 26262 standard](http://webstore.ansi.org/RecordDetail.aspx?sku=ISO+26262+-+Road+Vehicles+Functional+Safety+Package) is an offshoot of the IEC 61508 standard.\n",
    "\n",
    "Note that what is described in this video and the lessons that follow encompasses not only FUSA but also Safety of the Intended Functionality [(SOTIF)](https://www.iso.org/standard/70939.html).\n",
    "\n",
    "## 2. Safety\n",
    "\n",
    "### Automotive Safety versus Automotive Functional Safety\n",
    "Vehicles have a number of different systems including hydraulic, mechanical, electrical, electronic, and chemical. There are a variety of automotive standards covering topics about safety and also design best practices. You can find some examples on the [Society of Automotive Engineers website](http://standards.sae.org/ground-vehicle-standards/).\n",
    "\n",
    "Governments even have their own safety standards such as the United States government's [Federal Motor Vehicle Safety Standards](https://icsw.nhtsa.gov/cars/rules/import/FMVSS/) and the United Nation's [World Forum for Harmonization of Vehicle Regulation](https://www.unece.org/trans/main/wp29/meeting_docs_wp29.html).\n",
    "\n",
    "Functional safety, which only looks at electrical and electronic system malfunctions, is just one part of overall vehicle safety.\n",
    "\n",
    "### Functional Safety and Nominal Performance\n",
    "Functional safety also does not look at nominal performance. For example, nominal performance of an automatic braking system could be that a vehicle traveling 60 miles per hour should come to a complete stop in 5 seconds. Functional safety does not determine whether or not the vehicle brakes within 5 seconds.\n",
    "\n",
    "Instead, functional safety would look at malfunctions like if the braking function engaged when it wasn't supposed to or if the system brakes too hard causing injury to the driver. Nominal performance issues can still lead to safety problems, but nominal performance is not part of the functional safety standard.\n"
   ]
  },
  {
   "cell_type": "markdown",
   "metadata": {},
   "source": [
    "## 3. Functional Safety\n",
    "\n",
    "### The Basics of Functional Safety: Review\n",
    "1. **Identify hazards** in a passenger vehicle's electronic or electric system that could cause physical injury or damage to a person's health\n",
    "2. **Evaluate the risk** of the hazardous situation so that we know how much we need to lower the risk\n",
    "3. Via **systems engineering**, prevent accidents from occurring by lowering risk to reasonable levels. Systems engineering helps you figure out what your vehicle needs to do and what your vehicle design needs to look like in order to remain safe.\n",
    "\n",
    "### What Level of Risk is Reasonable?\n",
    "Who gets to decide what level of risk is reasonable?\n",
    "\n",
    "While you can never eliminate risk entirely, you will reduce risk to levels acceptable by society as a whole.\n",
    "\n",
    "The history of seat belts provides a great example of how society measures risks. As an aside, remember that functional safety only looks at malfunctions related to electrical and electronic systems. Although seat belts are important safety features, they would not be considered part of automotive functional safety since seat belts are mechanical devices. For our purposes we will consider seat belts to be mechanical. Some modern seat belts, which are not purely mechanical, and contain electrical components, would be considered part of functional safety.\n",
    "\n",
    "Many people consider Karl Benz to have invented the automobile around 1885. Seat-belts didn't start appearing until the 1920s when doctors began installing them in their own vehicles. It wasn't until the 1950s that car companies offered seat belts as optional equipment. And then it took until the end of the 1950s for seat belts to become standard equipment.\n",
    "\n",
    "In 1968, the United States passed legislation requiring all vehicles to come with safety belts. Then in 1970, Australia became the first country to require seat belt use. In 1984, New York was the first state in the United States to pass similar legislation. So it took almost a century for countries to require seat belt use.\n",
    "\n",
    "Today, can you imagine purchasing a car with no seat belts? By the measure of contemporary society, driving without a seatbelt is an unreasonable risk. But in the past, driving without a seatbelt was considered reasonable by society's standards.\n",
    "\n",
    "Functional safety focuses on keeping risks below society's current threshold.\n",
    "\n",
    "### Eliminating Risk Completely\n",
    "Why are you only trying to lower risk to reasonable levels rather than eliminating all risk? Eliminating all risks would paralyze engineering, product development and testing. Ensuring that people were never injured in a car accident would, unfortunately, probably be impossible.\n",
    "\n",
    "On the other hand, not eliminating enough risks could lead to failed products, recalls, lawsuits or even loss of life. In the end, every company has to decide for itself how much risk to eliminate from its products.\n",
    "\n",
    "### What does \"Functional\" Mean?\n",
    "The term \"functional\" comes from a branch of systems engineering called requirements engineering. Systems engineering separates requirements into:\n",
    "\n",
    "**Functional requirements** - what your system is supposed to do; in other words, the system's functions.\n",
    "\n",
    "**Non-functional requirements** - how the system should behave: for example, how reliable is the system?\n",
    "\n",
    "Functional requirements generally have the form **X system shall do Y**. For example, \"The turn signal system shall turn on an indicator light telling the driver that the system is active\".\n",
    "\n",
    "Non-functional requirements have the form **X system shall be Y**. As an example: \"The turn signal system shall be available when the vehicle ignition switch is in the on position\".\n",
    "\n",
    "Functional safety looks at what happens when the system does something that it was not supposed to do, which is called a malfunction. You will be adding new engineering requirements to the vehicle design in order to ensure safe systems.\n",
    "\n",
    "You might notice that the word **shall** comes up quite often in the functional safety module. This is because engineering requirements almost always contain the word \"shall\". If you see the word shall, then you are probably looking at an engineering requirement."
   ]
  },
  {
   "cell_type": "markdown",
   "metadata": {},
   "source": []
  },
  {
   "cell_type": "markdown",
   "metadata": {},
   "source": []
  },
  {
   "cell_type": "markdown",
   "metadata": {},
   "source": []
  }
 ],
 "metadata": {
  "kernelspec": {
   "display_name": "Python 3",
   "language": "python",
   "name": "python3"
  },
  "language_info": {
   "codemirror_mode": {
    "name": "ipython",
    "version": 3
   },
   "file_extension": ".py",
   "mimetype": "text/x-python",
   "name": "python",
   "nbconvert_exporter": "python",
   "pygments_lexer": "ipython3",
   "version": "3.7.6"
  }
 },
 "nbformat": 4,
 "nbformat_minor": 4
}
